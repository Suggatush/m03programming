{
 "cells": [
  {
   "cell_type": "code",
   "execution_count": null,
   "id": "464c2f98",
   "metadata": {},
   "outputs": [],
   "source": [
    "things = [\"mozzarella\",\"cinderella\",\"salmonella\"]\n"
   ]
  },
  {
   "cell_type": "code",
   "execution_count": 2,
   "id": "2c705933",
   "metadata": {},
   "outputs": [
    {
     "name": "stdout",
     "output_type": "stream",
     "text": [
      "Cinderella\n",
      "['mozzarella', 'cinderella', 'salmonella']\n",
      "['MOZZARELLA', 'cinderella', 'salmonella']\n",
      "['MOZZARELLA', 'cinderella']\n"
     ]
    }
   ],
   "source": [
    "things = [\"mozzarella\",\"cinderella\",\"salmonella\"]\n",
    "person = things[1]\n",
    "p = person.capitalize()\n",
    "print(p)\n",
    "print(things)\n",
    "\n",
    "cheese = things[0]\n",
    "things[0] = cheese.upper()\n",
    "print(things)\n",
    "\n",
    "del things[2]\n",
    "print(things)"
   ]
  },
  {
   "cell_type": "code",
   "execution_count": null,
   "id": "a24ffe72",
   "metadata": {},
   "outputs": [],
   "source": [
    "#did not capitalize\n"
   ]
  },
  {
   "cell_type": "code",
   "execution_count": null,
   "id": "95381b77",
   "metadata": {},
   "outputs": [],
   "source": [
    "def good():\n",
    "  return [\"Harry\",\"Ron\",\"Hermoine\"]"
   ]
  },
  {
   "cell_type": "code",
   "execution_count": 3,
   "id": "7f8cf35c",
   "metadata": {},
   "outputs": [
    {
     "name": "stdout",
     "output_type": "stream",
     "text": [
      "5 is here\n",
      "[1, 3, 5, 7, 9]\n"
     ]
    },
    {
     "data": {
      "text/plain": [
       "[1, 3, 5, 7, 9]"
      ]
     },
     "execution_count": 3,
     "metadata": {},
     "output_type": "execute_result"
    }
   ],
   "source": [
    "def get_odds():\n",
    "  counter=0\n",
    "  odd = 1\n",
    "  odd_list = []\n",
    "  \n",
    "\n",
    "  for x in range(10):\n",
    "    if x % 2 == odd:\n",
    "      #print(x)\n",
    "      odd_list.append(x)\n",
    "      \n",
    "      counter += 1\n",
    "      #print(\"this is count\", counter)\n",
    "      if counter == 3:\n",
    "        print(x, \"is here\")\n",
    "\n",
    "  print(odd_list)\n",
    "  return odd_list\n",
    "  \n",
    "get_odds()"
   ]
  },
  {
   "cell_type": "code",
   "execution_count": null,
   "id": "1c4df247",
   "metadata": {},
   "outputs": [],
   "source": []
  }
 ],
 "metadata": {
  "kernelspec": {
   "display_name": "Python 3 (ipykernel)",
   "language": "python",
   "name": "python3"
  },
  "language_info": {
   "codemirror_mode": {
    "name": "ipython",
    "version": 3
   },
   "file_extension": ".py",
   "mimetype": "text/x-python",
   "name": "python",
   "nbconvert_exporter": "python",
   "pygments_lexer": "ipython3",
   "version": "3.11.5"
  }
 },
 "nbformat": 4,
 "nbformat_minor": 5
}
